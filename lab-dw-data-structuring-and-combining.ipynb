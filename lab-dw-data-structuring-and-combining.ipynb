{
 "cells": [
  {
   "cell_type": "markdown",
   "id": "25d7736c-ba17-4aff-b6bb-66eba20fbf4e",
   "metadata": {
    "id": "25d7736c-ba17-4aff-b6bb-66eba20fbf4e"
   },
   "source": [
    "# Lab | Data Structuring and Combining Data"
   ]
  },
  {
   "cell_type": "markdown",
   "id": "a2cdfc70-44c8-478c-81e7-2bc43fdf4986",
   "metadata": {
    "id": "a2cdfc70-44c8-478c-81e7-2bc43fdf4986"
   },
   "source": [
    "## Challenge 1: Combining & Cleaning Data\n",
    "\n",
    "In this challenge, we will be working with the customer data from an insurance company, as we did in the two previous labs. The data can be found here:\n",
    "- https://raw.githubusercontent.com/data-bootcamp-v4/data/main/file1.csv\n",
    "\n",
    "But this time, we got new data, which can be found in the following 2 CSV files located at the links below.\n",
    "\n",
    "- https://raw.githubusercontent.com/data-bootcamp-v4/data/main/file2.csv\n",
    "- https://raw.githubusercontent.com/data-bootcamp-v4/data/main/file3.csv\n",
    "\n",
    "Note that you'll need to clean and format the new data.\n",
    "\n",
    "Observation:\n",
    "- One option is to first combine the three datasets and then apply the cleaning function to the new combined dataset\n",
    "- Another option would be to read the clean file you saved in the previous lab, and just clean the two new files and concatenate the three clean datasets"
   ]
  },
  {
   "cell_type": "code",
   "execution_count": null,
   "id": "492d06e3-92c7-4105-ac72-536db98d3244",
   "metadata": {
    "id": "492d06e3-92c7-4105-ac72-536db98d3244"
   },
   "outputs": [],
   "source": [
    "import pandas as pd\n",
    "\n",
    "# URLs for the CSV files\n",
    "url1 = 'https://raw.githubusercontent.com/data-bootcamp-v4/data/main/file1.csv'\n",
    "url2 = 'https://raw.githubusercontent.com/data-bootcamp-v4/data/main/file2.csv'\n",
    "url3 = 'https://raw.githubusercontent.com/data-bootcamp-v4/data/main/file3.csv'\n",
    "\n",
    "# Load the data from URLs\n",
    "df1 = pd.read_csv(url1)\n",
    "df2 = pd.read_csv(url2)\n",
    "df3 = pd.read_csv(url3)\n",
    "\n",
    "# Print column names for verification\n",
    "print(\"Columns in df1:\")\n",
    "print(df1.columns.tolist())\n",
    "\n",
    "print(\"\\nColumns in df2:\")\n",
    "print(df2.columns.tolist())\n",
    "\n",
    "print(\"\\nColumns in df3:\")\n",
    "print(df3.columns.tolist())\n",
    "\n",
    "# Standardize column names\n",
    "df3.rename(columns={'State': 'ST', 'Gender': 'GENDER'}, inplace=True)\n",
    "\n",
    "# Combine df2 and df3 into df1\n",
    "combined_df = pd.concat([df1, df2, df3], ignore_index=True)\n",
    "\n",
    "# Create a new column with sequential ID\n",
    "combined_df['ID'] = range(1, len(combined_df) + 1)\n",
    "\n",
    "# Remove duplicate rows\n",
    "combined_df = combined_df.drop_duplicates()\n",
    "\n",
    "# Remove leading and trailing spaces from column names\n",
    "combined_df.columns = combined_df.columns.str.strip()\n",
    "\n",
    "# Remove leading and trailing spaces from text values in columns\n",
    "for col in ['Customer', 'Education', 'Policy Type', 'Vehicle Class', 'GENDER']:\n",
    "    if col in combined_df.columns:\n",
    "        combined_df[col] = combined_df[col].str.strip()\n",
    "\n",
    "# Clean 'Customer Lifetime Value' by removing percentage symbols and converting to float\n",
    "if 'Customer Lifetime Value' in combined_df.columns:\n",
    "    combined_df['Customer Lifetime Value'] = combined_df['Customer Lifetime Value'].str.replace('%', '').astype(float)\n",
    "\n",
    "# Clean 'Number of Open Complaints' by removing non-numeric characters and converting to integers\n",
    "if 'Number of Open Complaints' in combined_df.columns:\n",
    "    combined_df['Number of Open Complaints'] = (\n",
    "        combined_df['Number of Open Complaints']\n",
    "        .str.replace(r'[^0-9]', '', regex=True)  # Remove non-numeric characters\n",
    "        .replace('', '0')  # Replace empty strings with '0'\n",
    "        .fillna('0')  # Replace NaN with '0'\n",
    "        .astype(int)\n",
    "    )\n",
    "\n",
    "# Fill missing values\n",
    "combined_df = combined_df.fillna({\n",
    "    'Customer Lifetime Value': 0,\n",
    "    'Income': 0,\n",
    "    'Monthly Premium Auto': 0,\n",
    "    'Number of Open Complaints': 0,\n",
    "    'Total Claim Amount': 0\n",
    "})\n",
    "\n",
    "# Convert numerical columns to appropriate types\n",
    "combined_df['Income'] = combined_df['Income'].astype(float)\n",
    "combined_df['Monthly Premium Auto'] = combined_df['Monthly Premium Auto'].astype(float)\n",
    "combined_df['Total Claim Amount'] = combined_df['Total Claim Amount'].astype(float)\n",
    "\n",
    "# Print the cleaned DataFrame with ID\n",
    "print(\"\\nCleaned DataFrame with ID:\")\n",
    "print(combined_df.head())\n",
    "\n",
    "\n"
   ]
  },
  {
   "cell_type": "markdown",
   "id": "31b8a9e7-7db9-4604-991b-ef6771603e57",
   "metadata": {
    "id": "31b8a9e7-7db9-4604-991b-ef6771603e57"
   },
   "source": [
    "# Challenge 2: Structuring Data"
   ]
  },
  {
   "cell_type": "markdown",
   "id": "a877fd6d-7a0c-46d2-9657-f25036e4ca4b",
   "metadata": {
    "id": "a877fd6d-7a0c-46d2-9657-f25036e4ca4b"
   },
   "source": [
    "In this challenge, we will continue to work with customer data from an insurance company, but we will use a dataset with more columns, called marketing_customer_analysis.csv, which can be found at the following link:\n",
    "\n",
    "https://raw.githubusercontent.com/data-bootcamp-v4/data/main/marketing_customer_analysis_clean.csv\n",
    "\n",
    "This dataset contains information such as customer demographics, policy details, vehicle information, and the customer's response to the last marketing campaign. Our goal is to explore and analyze this data by performing data cleaning, formatting, and structuring."
   ]
  },
  {
   "cell_type": "code",
   "execution_count": 1,
   "id": "aa10d9b0-1c27-4d3f-a8e4-db6ab73bfd26",
   "metadata": {
    "id": "aa10d9b0-1c27-4d3f-a8e4-db6ab73bfd26"
   },
   "outputs": [
    {
     "name": "stdout",
     "output_type": "stream",
     "text": [
      "<class 'pandas.core.frame.DataFrame'>\n",
      "RangeIndex: 10910 entries, 0 to 10909\n",
      "Data columns (total 27 columns):\n",
      " #   Column                         Non-Null Count  Dtype  \n",
      "---  ------                         --------------  -----  \n",
      " 0   unnamed:_0                     10910 non-null  int64  \n",
      " 1   customer                       10910 non-null  object \n",
      " 2   state                          10910 non-null  object \n",
      " 3   customer_lifetime_value        10910 non-null  float64\n",
      " 4   response                       10910 non-null  object \n",
      " 5   coverage                       10910 non-null  object \n",
      " 6   education                      10910 non-null  object \n",
      " 7   effective_to_date              10910 non-null  object \n",
      " 8   employmentstatus               10910 non-null  object \n",
      " 9   gender                         10910 non-null  object \n",
      " 10  income                         10910 non-null  int64  \n",
      " 11  location_code                  10910 non-null  object \n",
      " 12  marital_status                 10910 non-null  object \n",
      " 13  monthly_premium_auto           10910 non-null  int64  \n",
      " 14  months_since_last_claim        10910 non-null  float64\n",
      " 15  months_since_policy_inception  10910 non-null  int64  \n",
      " 16  number_of_open_complaints      10910 non-null  float64\n",
      " 17  number_of_policies             10910 non-null  int64  \n",
      " 18  policy_type                    10910 non-null  object \n",
      " 19  policy                         10910 non-null  object \n",
      " 20  renew_offer_type               10910 non-null  object \n",
      " 21  sales_channel                  10910 non-null  object \n",
      " 22  total_claim_amount             10910 non-null  float64\n",
      " 23  vehicle_class                  10910 non-null  object \n",
      " 24  vehicle_size                   10910 non-null  object \n",
      " 25  vehicle_type                   10910 non-null  object \n",
      " 26  month                          10910 non-null  int64  \n",
      "dtypes: float64(4), int64(6), object(17)\n",
      "memory usage: 2.2+ MB\n",
      "None\n",
      "Index(['unnamed:_0', 'customer', 'state', 'customer_lifetime_value',\n",
      "       'response', 'coverage', 'education', 'effective_to_date',\n",
      "       'employmentstatus', 'gender', 'income', 'location_code',\n",
      "       'marital_status', 'monthly_premium_auto', 'months_since_last_claim',\n",
      "       'months_since_policy_inception', 'number_of_open_complaints',\n",
      "       'number_of_policies', 'policy_type', 'policy', 'renew_offer_type',\n",
      "       'sales_channel', 'total_claim_amount', 'vehicle_class', 'vehicle_size',\n",
      "       'vehicle_type', 'month'],\n",
      "      dtype='object')\n"
     ]
    }
   ],
   "source": [
    "# Your code goes here\n",
    "\n",
    "import pandas as pd\n",
    "\n",
    "url = 'https://raw.githubusercontent.com/data-bootcamp-v4/data/main/marketing_customer_analysis_clean.csv'\n",
    "\n",
    "db = pd.read_csv(url)\n",
    "\n",
    "print(db.info())\n",
    "print(db.columns.unique())"
   ]
  },
  {
   "cell_type": "markdown",
   "id": "df35fd0d-513e-4e77-867e-429da10a9cc7",
   "metadata": {
    "id": "df35fd0d-513e-4e77-867e-429da10a9cc7"
   },
   "source": [
    "1. You work at the marketing department and you want to know which sales channel brought the most sales in terms of total revenue. Using pivot, create a summary table showing the total revenue for each sales channel (branch, call center, web, and mail).\n",
    "Round the total revenue to 2 decimal points.  Analyze the resulting table to draw insights."
   ]
  },
  {
   "cell_type": "code",
   "execution_count": null,
   "id": "220ca2c6",
   "metadata": {},
   "outputs": [],
   "source": [
    "pivot_revenue = db.pivot_table( values='total_claim_amount', index='sales_channel', aggfunc='sum').round(2)\n",
    "\n",
    "print('Table:', pivot_revenue)"
   ]
  },
  {
   "cell_type": "markdown",
   "id": "640993b2-a291-436c-a34d-a551144f8196",
   "metadata": {
    "id": "640993b2-a291-436c-a34d-a551144f8196"
   },
   "source": [
    "2. Create a pivot table that shows the average customer lifetime value per gender and education level. Analyze the resulting table to draw insights."
   ]
  },
  {
   "cell_type": "code",
   "execution_count": null,
   "id": "4b2b8a30",
   "metadata": {},
   "outputs": [],
   "source": [
    "pivot_average_lifetime = db.pivot_table( values='customer_lifetime_value', index='sales_channel', aggfunc='mean').round(2)\n",
    "\n",
    "print('Table:', pivot_average_lifetime)"
   ]
  },
  {
   "cell_type": "markdown",
   "id": "32c7f2e5-3d90-43e5-be33-9781b6069198",
   "metadata": {
    "id": "32c7f2e5-3d90-43e5-be33-9781b6069198"
   },
   "source": [
    "## Bonus\n",
    "\n",
    "You work at the customer service department and you want to know which months had the highest number of complaints by policy type category. Create a summary table showing the number of complaints by policy type and month.\n",
    "Show it in a long format table."
   ]
  },
  {
   "cell_type": "markdown",
   "id": "e3d09a8f-953c-448a-a5f8-2e5a8cca7291",
   "metadata": {
    "id": "e3d09a8f-953c-448a-a5f8-2e5a8cca7291"
   },
   "source": [
    "*In data analysis, a long format table is a way of structuring data in which each observation or measurement is stored in a separate row of the table. The key characteristic of a long format table is that each column represents a single variable, and each row represents a single observation of that variable.*\n",
    "\n",
    "*More information about long and wide format tables here: https://www.statology.org/long-vs-wide-data/*"
   ]
  },
  {
   "cell_type": "code",
   "execution_count": 5,
   "id": "3a069e0b-b400-470e-904d-d17582191be4",
   "metadata": {
    "id": "3a069e0b-b400-470e-904d-d17582191be4"
   },
   "outputs": [
    {
     "name": "stdout",
     "output_type": "stream",
     "text": [
      "      Policy Type  Month  Number of Complaints\n",
      "0  Corporate Auto      1                  1252\n",
      "1  Corporate Auto      2                  1089\n",
      "2   Personal Auto      1                  4329\n",
      "3   Personal Auto      2                  3799\n",
      "4    Special Auto      1                   237\n",
      "5    Special Auto      2                   204\n"
     ]
    }
   ],
   "source": [
    "# Your code goes here\n",
    "\n",
    "summary_table = db.pivot_table(values='number_of_open_complaints', index=['policy_type', 'month'], aggfunc='count').reset_index()\n",
    "\n",
    "# Rename columns for clarity\n",
    "summary_table.columns = ['Policy Type', 'Month', 'Number of complaints']\n",
    "\n",
    "print(summary_table)"
   ]
  }
 ],
 "metadata": {
  "colab": {
   "provenance": []
  },
  "kernelspec": {
   "display_name": "Python 3 (ipykernel)",
   "language": "python",
   "name": "python3"
  },
  "language_info": {
   "codemirror_mode": {
    "name": "ipython",
    "version": 3
   },
   "file_extension": ".py",
   "mimetype": "text/x-python",
   "name": "python",
   "nbconvert_exporter": "python",
   "pygments_lexer": "ipython3",
   "version": "3.12.4"
  }
 },
 "nbformat": 4,
 "nbformat_minor": 5
}
